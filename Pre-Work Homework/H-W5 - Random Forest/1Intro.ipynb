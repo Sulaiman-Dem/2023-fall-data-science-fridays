{
 "cells": [
  {
   "cell_type": "markdown",
   "metadata": {},
   "source": [
    "https://www.deeplearning.ai/short-courses/chatgpt-prompt-engineering-for-developers/"
   ]
  },
  {
   "cell_type": "markdown",
   "metadata": {},
   "source": [
    "Two LLMs (Large Language Models)"
   ]
  },
  {
   "cell_type": "markdown",
   "metadata": {},
   "source": [
    "Base LLM\n",
    "\n",
    "~ Predicts next word based on text training data."
   ]
  },
  {
   "cell_type": "markdown",
   "metadata": {},
   "source": [
    "Instruction Tuned LLM\n",
    "~ Tries to follow instructions.\n",
    "~ RLHF = Reinforcement Learning with human feedback \n"
   ]
  }
 ],
 "metadata": {
  "language_info": {
   "name": "python"
  },
  "orig_nbformat": 4
 },
 "nbformat": 4,
 "nbformat_minor": 2
}
