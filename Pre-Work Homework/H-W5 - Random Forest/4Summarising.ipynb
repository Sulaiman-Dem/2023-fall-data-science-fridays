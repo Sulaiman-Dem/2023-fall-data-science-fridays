{
 "cells": [
  {
   "cell_type": "markdown",
   "metadata": {},
   "source": [
    "zero-shot learning algorithm where it wasn't given any labeled training data "
   ]
  },
  {
   "cell_type": "markdown",
   "metadata": {},
   "source": []
  }
 ],
 "metadata": {
  "language_info": {
   "name": "python"
  },
  "orig_nbformat": 4
 },
 "nbformat": 4,
 "nbformat_minor": 2
}
