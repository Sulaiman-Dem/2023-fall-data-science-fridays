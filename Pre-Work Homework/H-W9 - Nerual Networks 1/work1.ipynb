{
 "cells": [
  {
   "cell_type": "markdown",
   "metadata": {},
   "source": [
    "Pre-Class HW:   Howdy yall.  I have changed the ordering of the next two lectures.  So this week we will be doing intro to Neural Networks and next week will be HuggingFace.  Therefore, the pre-class HW has changed.\n",
    "Watch Neural Networks Pt. 1 StatQuest [20min]\n",
    "Reply to this message with one thing you learned that has not been said yet.\n",
    "Sign up for a Kaggle account [10 min]\n",
    "!!! Verify your kaggle account with your phone number so you can run GPUs !!!\n",
    "this is under Account > Settings > Phone Verification"
   ]
  },
  {
   "cell_type": "markdown",
   "metadata": {},
   "source": [
    "Video 1: Neural Networks Pt. 1: Inside the Black Box"
   ]
  },
  {
   "cell_type": "markdown",
   "metadata": {},
   "source": [
    "softplus is curved line\n",
    "ReLu is bent\n",
    "Sigmoid is a double curve like a s"
   ]
  },
  {
   "cell_type": "markdown",
   "metadata": {},
   "source": []
  }
 ],
 "metadata": {
  "language_info": {
   "name": "python"
  },
  "orig_nbformat": 4
 },
 "nbformat": 4,
 "nbformat_minor": 2
}
