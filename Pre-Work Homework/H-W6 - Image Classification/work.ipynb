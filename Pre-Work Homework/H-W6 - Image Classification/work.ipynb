{
 "cells": [
  {
   "cell_type": "markdown",
   "metadata": {},
   "source": [
    "# Pre-Class HW for next weeks Regression lecture:\n",
    "Watch this Regression Analysis Video ~45 mins\n",
    "OPTIONAL: Watch the AMAZING about beating baseball with data science called Moneyball (starring Brad Pitt).\n",
    "OPTIONAL: If you have no idea how baseball works watch this"
   ]
  },
  {
   "cell_type": "markdown",
   "metadata": {},
   "source": [
    "1. Regression Analysis - https://www.youtube.com/watch?v=0m-rs2M7K-Y&t=1s"
   ]
  },
  {
   "cell_type": "markdown",
   "metadata": {},
   "source": [
    "This allows you to make it possible to infer **(We find a sample slope and then use it to make a confidence interval or perform a hypothesis test about the true population slope)** or predict a variable on the basis of one variable or more variables other variables."
   ]
  },
  {
   "cell_type": "markdown",
   "metadata": {},
   "source": [
    "1. (Criterion)Dependent Variables - Salary\n",
    "2. (Predictors)Independent Variables - Eduction, time, age\n"
   ]
  },
  {
   "cell_type": "markdown",
   "metadata": {},
   "source": [
    "1. Measurement of the influence of one or more variables on another variable.\n",
    "2. Prediction of a variable by one or more other variables."
   ]
  },
  {
   "cell_type": "markdown",
   "metadata": {},
   "source": [
    "1. Simple linear regression - use only 1 independent variable. Metric, ordinal, nominal for predictors. Metric for criterion.\n",
    "2. Multiple linear regression - use a few independent variables. Metric, ordinal, nominal for predictors. Metric for criterion.\n",
    "3. logistic regression - use when you have a categorical variable dependent variable such as a yes or no answer. Metric, ordinal, nominal for predictors. Nominal or ordinal for criterion."
   ]
  },
  {
   "cell_type": "markdown",
   "metadata": {},
   "source": [
    "Nominal and ordinal categorical variables there can be two characteristic but if it has more than 2 then we make a dummy variable."
   ]
  },
  {
   "cell_type": "markdown",
   "metadata": {},
   "source": [
    "Error = epsilon "
   ]
  },
  {
   "cell_type": "markdown",
   "metadata": {},
   "source": [
    "1. R = measures the relationship between the dependent variable and the independent variable.\n",
    "2. R^2 = indicated how much of the variance of the dependent variable can be explained by the independent variable.\n",
    "3. Adjusted R^2 = Overestimates the coefficient of the determination just when many independent variables are used\n",
    "4. Standard estimation error = indicates by how much the model overestimates the dependent variable on average"
   ]
  },
  {
   "cell_type": "markdown",
   "metadata": {},
   "source": [
    "Assumptions:\n",
    "1. Linearity - A straight line\n",
    "2. Normal distribution of error - Analytical, Graphic = histogram or quantile-quantile plot.\n",
    "3. Homoscedasticity - Constant variance other its called heteroscedasticity without variance\n",
    "4. Multicollinearity - two or more variables are strongly correlated, only prediction is fine with this."
   ]
  },
  {
   "cell_type": "markdown",
   "metadata": {},
   "source": [
    "2. MoneyBall https://www.youtube.com/watch?v=D1R-LwHbld4"
   ]
  },
  {
   "cell_type": "markdown",
   "metadata": {},
   "source": []
  }
 ],
 "metadata": {
  "language_info": {
   "name": "python"
  },
  "orig_nbformat": 4
 },
 "nbformat": 4,
 "nbformat_minor": 2
}
