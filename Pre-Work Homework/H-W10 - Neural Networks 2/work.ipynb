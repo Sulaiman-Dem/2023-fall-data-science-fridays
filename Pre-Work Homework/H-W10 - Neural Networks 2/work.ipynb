{
 "cells": [
  {
   "cell_type": "markdown",
   "metadata": {},
   "source": [
    "VERY IMPORTANT!! Pre-Class work\n",
    "Watch Getting Started with HuggingFace video [15min]\n",
    "[~1-2hrs] Start the HuggingFace NLP Course by completing the first two sections. Part 0 and Part 1. I recommend doing the entire course, but that is up to you, however, you MUST DO PART 0 and PART 1.\n",
    "Part 0: Setup / Intro\n",
    "I HIGHLY RECOMMEND FOLLOWING ALONG IN google colab, AND NOT TRYING TO INSTALL/RUN LOCALLY.\n",
    "Part 1. Transformer Models\n",
    "Complete and record your score of the End-of-chapter quiz\n",
    "If youre having trouble, here are live coding sessions that might help.\n",
    "If you do decided to do more, i would focus on section PART 3: FINE-TUNING A PRETRAINED MODEL."
   ]
  },
  {
   "cell_type": "markdown",
   "metadata": {},
   "source": [
    "Video 1: https://www.youtube.com/watch?v=QEaBAZQCtwE\n",
    "\n",
    "Getting Started With Hugging Face in 15 Minutes | Transformers, Pipeline, Tokenizer, Models "
   ]
  },
  {
   "cell_type": "markdown",
   "metadata": {},
   "source": [
    "from transformers import pipline"
   ]
  },
  {
   "cell_type": "markdown",
   "metadata": {},
   "source": []
  },
  {
   "cell_type": "markdown",
   "metadata": {},
   "source": [
    "Video 2: On Google Colab https://huggingface.co/learn/nlp-course/chapter0/1?fw=pt\n",
    "\n",
    "0. Part 0: Setup/Introduction\n",
    "1. Part 1: Transformer Model"
   ]
  },
  {
   "cell_type": "markdown",
   "metadata": {},
   "source": []
  }
 ],
 "metadata": {
  "kernelspec": {
   "display_name": "deeplearning",
   "language": "python",
   "name": "python3"
  },
  "language_info": {
   "name": "python",
   "version": "3.11.0"
  },
  "orig_nbformat": 4
 },
 "nbformat": 4,
 "nbformat_minor": 2
}
