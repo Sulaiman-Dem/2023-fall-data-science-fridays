{
 "cells": [
  {
   "cell_type": "markdown",
   "metadata": {},
   "source": [
    "I have changed the topic for next week to Decision Trees and Random Forests, therefore the pre-class HW has changed.  You now need to watch these two videos and comment with one thing you learned to this message. You can watch them in less than 30 mins if in a rush.  You no longer need to do the original preclass HW (the TIFDF video).\n",
    "Decision Trees with StatQuest (20min)\n",
    "Random Forest Part 1 With StatQuest (10min)\n",
    "Optional, watch Random Forest Part 2 (12 min)\n",
    "Extra optional, watch StatQuest XGBOOST (30min - 2hrs)\n",
    "XGBoost is considered the most powerful ML algo that is not a neural network.\n",
    "There will be a short quiz on this material at the beginning of next class."
   ]
  }
 ],
 "metadata": {
  "language_info": {
   "name": "python"
  },
  "orig_nbformat": 4
 },
 "nbformat": 4,
 "nbformat_minor": 2
}
